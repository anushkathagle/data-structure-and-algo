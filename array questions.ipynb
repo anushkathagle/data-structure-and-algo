{
 "cells": [
  {
   "cell_type": "markdown",
   "metadata": {},
   "source": [
    "## **Implementation of a Dynamic array**"
   ]
  },
  {
   "cell_type": "markdown",
   "metadata": {},
   "source": [
    "## Sum of Pairs"
   ]
  },
  {
   "cell_type": "code",
   "execution_count": null,
   "metadata": {},
   "outputs": [],
   "source": [
    "def pairsum(arr,k):\n",
    "    \n",
    "    count = 0\n",
    "    l = len(arr)\n",
    "    ls = []\n",
    "    \n",
    "    for i in arr:\n",
    "        diff = k - i\n",
    "        if diff in arr:\n",
    "            pair = (min(diff,i),max(diff,i))\n",
    "            if pair not in ls:\n",
    "                ls.append(pair)\n",
    "    print(len(ls))\n",
    "\n",
    "# def pair_sum(arr,k):\n",
    "    \n",
    "#     if len(arr)<2:\n",
    "#         return\n",
    "    \n",
    "#     # Sets for tracking\n",
    "#     seen = set()\n",
    "#     output = set()\n",
    "    \n",
    "#     # For every number in array\n",
    "#     for num in arr:\n",
    "        \n",
    "#         # Set target difference\n",
    "#         target = k-num\n",
    "        \n",
    "#         # Add it to set if target hasn't been seen\n",
    "#         if target not in seen:\n",
    "#             seen.add(num)\n",
    "        \n",
    "#         else:\n",
    "#             # Add a tuple with the corresponding pair\n",
    "#             output.add( (min(num,target),  max(num,target)) )\n",
    "    \n",
    "    \n",
    "#     # FOR TESTING\n",
    "#     return len(output)\n",
    "#     # Nice one-liner for printing output\n",
    "#     #return '\\n'.join(map(str,list(output)))\n",
    "\n",
    "pairsum([1,2,3,1],3)"
   ]
  },
  {
   "cell_type": "code",
   "execution_count": 17,
   "metadata": {},
   "outputs": [
    {
     "name": "stdout",
     "output_type": "stream",
     "text": [
      "6\n"
     ]
    }
   ],
   "source": [
    "pairsum([1,9,2,8,3,7,4,6,5,5,13,14,11,13,-1],10)"
   ]
  },
  {
   "cell_type": "markdown",
   "metadata": {},
   "source": [
    "## reverse the string"
   ]
  },
  {
   "cell_type": "code",
   "execution_count": 27,
   "metadata": {},
   "outputs": [],
   "source": [
    "def reverse(string):\n",
    "    new = []\n",
    "    reverse_string = ''\n",
    "    ls = [x for x in string.split()]\n",
    "    for i in range((len(ls)-1),-1,-1):\n",
    "        new.append(ls[i])\n",
    "    \n",
    "    for i in new:\n",
    "        reverse_string += (i + ' ')\n",
    "    print(reverse_string)\n",
    "    "
   ]
  },
  {
   "cell_type": "code",
   "execution_count": 28,
   "metadata": {},
   "outputs": [
    {
     "name": "stdout",
     "output_type": "stream",
     "text": [
      "go? to ready you are John, Hi \n"
     ]
    }
   ],
   "source": [
    "reverse('Hi John,   are you ready to go?')"
   ]
  },
  {
   "cell_type": "markdown",
   "metadata": {},
   "source": [
    "## reverse every word in string\n"
   ]
  },
  {
   "cell_type": "code",
   "execution_count": 31,
   "metadata": {},
   "outputs": [],
   "source": [
    "def rev_word(string):\n",
    "    new = []\n",
    "    for i in range((len(string)-1),-1,-1):\n",
    "        new.append(string[i])\n",
    "    print(''.join(new))"
   ]
  },
  {
   "cell_type": "code",
   "execution_count": 32,
   "metadata": {},
   "outputs": [
    {
     "name": "stdout",
     "output_type": "stream",
     "text": [
      "akhsuna si eman ym olleh\n"
     ]
    }
   ],
   "source": [
    "rev_word('hello my name is anushka')"
   ]
  },
  {
   "cell_type": "code",
   "execution_count": 33,
   "metadata": {},
   "outputs": [
    {
     "name": "stdout",
     "output_type": "stream",
     "text": [
      "?og ot ydaer uoy era   ,nhoJ iH\n"
     ]
    }
   ],
   "source": [
    "rev_word('Hi John,   are you ready to go?')"
   ]
  },
  {
   "cell_type": "markdown",
   "metadata": {},
   "source": [
    "## missing element"
   ]
  },
  {
   "cell_type": "code",
   "execution_count": 67,
   "metadata": {},
   "outputs": [],
   "source": [
    "def finder(ar1,ar2):\n",
    "    dic = {}\n",
    "    for i in ar2:\n",
    "        if i in dic:\n",
    "            dic[i] += 1\n",
    "        else:\n",
    "            dic[i] = 1\n",
    "\n",
    "    for i in ar1:\n",
    "        if i in dic:\n",
    "            dic[i] -= 1\n",
    "        elif i not in dic:\n",
    "            print(i)\n",
    "            break\n",
    "            \n",
    "        if dic[i] == (-1):\n",
    "            print(i) "
   ]
  },
  {
   "cell_type": "code",
   "execution_count": 68,
   "metadata": {},
   "outputs": [
    {
     "name": "stdout",
     "output_type": "stream",
     "text": [
      "5\n"
     ]
    }
   ],
   "source": [
    "arr1 = [1,2,3,4,5,6,7]\n",
    "arr2 = [3,7,2,1,4,6]\n",
    "finder(arr1,arr2)"
   ]
  },
  {
   "cell_type": "code",
   "execution_count": 69,
   "metadata": {},
   "outputs": [
    {
     "name": "stdout",
     "output_type": "stream",
     "text": [
      "5\n"
     ]
    }
   ],
   "source": [
    "arr1 = [5,5,7,7]\n",
    "arr2 = [5,7,7]\n",
    "\n",
    "finder(arr1,arr2)"
   ]
  },
  {
   "cell_type": "markdown",
   "metadata": {},
   "source": [
    "## Largest possible Sum\n"
   ]
  },
  {
   "cell_type": "code",
   "execution_count": 7,
   "metadata": {},
   "outputs": [],
   "source": [
    "def large_const_sum(arr):\n",
    "    l= len(arr)\n",
    "    ls = []\n",
    "    result = 0\n",
    "    for i in arr:\n",
    "        result += i\n",
    "        ls.append(result)\n",
    "    result = 0\n",
    "    for i in arr[::-1]:\n",
    "        result += i\n",
    "        ls.append(result)\n",
    "            \n",
    "    print(max(ls))\n",
    "\n",
    "#     def large_cont_sum(arr): \n",
    "    \n",
    "#     # Check to see if array is length 0\n",
    "#     if len(arr)==0: \n",
    "#         return 0\n",
    "    \n",
    "#     # Start the max and current sum at the first element\n",
    "#     max_sum=current_sum=arr[0] \n",
    "    \n",
    "#     # For every element in array\n",
    "#     for num in arr[1:]: \n",
    "        \n",
    "#         # Set current sum as the higher of the two\n",
    "#         current_sum=max(current_sum+num, num)\n",
    "        \n",
    "#         # Set max as the higher between the currentSum and the current max\n",
    "#         max_sum=max(current_sum, max_sum) \n",
    "        \n",
    "#     return max_sum"
   ]
  },
  {
   "cell_type": "code",
   "execution_count": 8,
   "metadata": {},
   "outputs": [
    {
     "name": "stdout",
     "output_type": "stream",
     "text": [
      "29\n"
     ]
    }
   ],
   "source": [
    "large_const_sum([1,2,-1,3,4,10,10,-10,-1])"
   ]
  },
  {
   "cell_type": "markdown",
   "metadata": {},
   "source": [
    "## String Compression"
   ]
  },
  {
   "cell_type": "code",
   "execution_count": 20,
   "metadata": {},
   "outputs": [],
   "source": [
    "def comp_string(string):\n",
    "    dic = {}\n",
    "    for i in string:\n",
    "        if i in dic:\n",
    "            dic[i] += 1\n",
    "        else:\n",
    "            dic[i] = 1\n",
    "    for k,v in dic.items():\n",
    "        print(k+str(v),end='')"
   ]
  },
  {
   "cell_type": "code",
   "execution_count": 21,
   "metadata": {},
   "outputs": [
    {
     "name": "stdout",
     "output_type": "stream",
     "text": [
      "A4B4C5D2E4"
     ]
    }
   ],
   "source": [
    "comp_string('AAAABBBBCCCCCDDEEEE')"
   ]
  },
  {
   "cell_type": "code",
   "execution_count": 22,
   "metadata": {},
   "outputs": [
    {
     "name": "stdout",
     "output_type": "stream",
     "text": [
      "A5B4C4"
     ]
    }
   ],
   "source": [
    "comp_string('AAAAABBBBCCCC')"
   ]
  },
  {
   "cell_type": "markdown",
   "metadata": {},
   "source": [
    "## Unique Character"
   ]
  },
  {
   "cell_type": "code",
   "execution_count": 23,
   "metadata": {},
   "outputs": [],
   "source": [
    "def unique(string):\n",
    "    for i in string:\n",
    "        count = string.count(i)\n",
    "        if count > 1:\n",
    "            return False\n",
    "        else:\n",
    "            return True    \n",
    "\n",
    "# def uni_char(s):\n",
    "#     return len(set(s)) == len(s)\n",
    "# def uni_char2(s):\n",
    "#     chars = set()\n",
    "#     for let in s:\n",
    "#         # Check if in set\n",
    "#         if let in chars:\n",
    "#             return False\n",
    "#         else:\n",
    "#             #Add it to the set\n",
    "#             chars.add(let)\n",
    "#     return True"
   ]
  },
  {
   "cell_type": "code",
   "execution_count": 24,
   "metadata": {},
   "outputs": [
    {
     "data": {
      "text/plain": [
       "False"
      ]
     },
     "execution_count": 24,
     "metadata": {},
     "output_type": "execute_result"
    }
   ],
   "source": [
    "unique('aaaaabcdt')"
   ]
  },
  {
   "cell_type": "code",
   "execution_count": 25,
   "metadata": {},
   "outputs": [
    {
     "data": {
      "text/plain": [
       "True"
      ]
     },
     "execution_count": 25,
     "metadata": {},
     "output_type": "execute_result"
    }
   ],
   "source": [
    "unique('abgfjiugcu')"
   ]
  },
  {
   "cell_type": "markdown",
   "metadata": {},
   "source": [
    "## Merge Sorted Array"
   ]
  },
  {
   "cell_type": "code",
   "execution_count": 29,
   "metadata": {},
   "outputs": [],
   "source": [
    "def mergesortedarr(a,b):\n",
    "  if len(a)==0 or len(b)==0:\n",
    "    return a+b\n",
    "  mylist=[]\n",
    "  i=0\n",
    "  j=0\n",
    "  while i<len(a) and j<len(b):\n",
    "\n",
    "    if a[i]<=b[j]:\n",
    "      mylist.append(a[i])\n",
    "      i+=1\n",
    "\n",
    "    elif b[j]<a[i]:\n",
    "      mylist.append(b[j])\n",
    "      j+=1\n",
    "\n",
    "  return mylist+a[i:]+b[j:]\n"
   ]
  },
  {
   "cell_type": "code",
   "execution_count": 30,
   "metadata": {},
   "outputs": [
    {
     "name": "stdout",
     "output_type": "stream",
     "text": [
      "[1, 2, 3, 3, 4, 4, 5, 6, 6, 9, 11, 20, 76]\n"
     ]
    }
   ],
   "source": [
    "a=[1,3,4,6,20]\n",
    "b=[2,3,4,5,6,9,11,76]\n",
    "x=mergesortedarr(a,b)\n",
    "print(x)\n"
   ]
  },
  {
   "cell_type": "code",
   "execution_count": null,
   "metadata": {},
   "outputs": [],
   "source": []
  }
 ],
 "metadata": {
  "kernelspec": {
   "display_name": "Python 3",
   "language": "python",
   "name": "python3"
  },
  "language_info": {
   "codemirror_mode": {
    "name": "ipython",
    "version": 3
   },
   "file_extension": ".py",
   "mimetype": "text/x-python",
   "name": "python",
   "nbconvert_exporter": "python",
   "pygments_lexer": "ipython3",
   "version": "3.7.6"
  }
 },
 "nbformat": 4,
 "nbformat_minor": 4
}
