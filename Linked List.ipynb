{
 "cells": [
  {
   "cell_type": "markdown",
   "metadata": {},
   "source": [
    "## Linked List\n",
    "First cell is implementation of single linked list "
   ]
  },
  {
   "cell_type": "code",
   "execution_count": 1,
   "metadata": {},
   "outputs": [],
   "source": [
    "class Node(object):\n",
    "    \n",
    "    def __init__(self,value):\n",
    "        \n",
    "        self.value = value\n",
    "        self.nextnode = None"
   ]
  },
  {
   "cell_type": "code",
   "execution_count": 2,
   "metadata": {},
   "outputs": [],
   "source": [
    "a = Node(1)\n",
    "b = Node(2)\n",
    "c = Node(3)"
   ]
  },
  {
   "cell_type": "code",
   "execution_count": 3,
   "metadata": {},
   "outputs": [],
   "source": [
    "a.nextnode = b\n",
    "b.nextnode = c\n",
    "c.nextnode = a"
   ]
  },
  {
   "cell_type": "code",
   "execution_count": 4,
   "metadata": {},
   "outputs": [
    {
     "data": {
      "text/plain": [
       "2"
      ]
     },
     "execution_count": 4,
     "metadata": {},
     "output_type": "execute_result"
    }
   ],
   "source": [
    "a.nextnode.value"
   ]
  },
  {
   "cell_type": "markdown",
   "metadata": {},
   "source": [
    "### Cycle check practical"
   ]
  },
  {
   "cell_type": "code",
   "execution_count": 5,
   "metadata": {},
   "outputs": [],
   "source": [
    "def cycle(node):\n",
    "    temp1 = node\n",
    "    temp2 = node\n",
    "    while True:\n",
    "        if temp1.nextnode == temp2:\n",
    "            return True\n",
    "        elif temp1.nextnode == None:\n",
    "            return False      \n",
    "        temp1 = temp1.nextnode\n",
    "    "
   ]
  },
  {
   "cell_type": "code",
   "execution_count": 6,
   "metadata": {},
   "outputs": [
    {
     "data": {
      "text/plain": [
       "True"
      ]
     },
     "execution_count": 6,
     "metadata": {},
     "output_type": "execute_result"
    }
   ],
   "source": [
    "cycle(a)"
   ]
  },
  {
   "cell_type": "markdown",
   "metadata": {},
   "source": [
    "### Reverse the list"
   ]
  },
  {
   "cell_type": "code",
   "execution_count": 7,
   "metadata": {},
   "outputs": [],
   "source": [
    "def reverse(node):\n",
    "    prev = None\n",
    "    while node != None:\n",
    "        temp = node\n",
    "        node = node.nextnode\n",
    "        temp.nextnode = prev\n",
    "        prev = temp"
   ]
  },
  {
   "cell_type": "code",
   "execution_count": 24,
   "metadata": {},
   "outputs": [],
   "source": [
    "w = Node(1)\n",
    "x = Node(2)\n",
    "y = Node(3)\n",
    "z = Node(4)"
   ]
  },
  {
   "cell_type": "code",
   "execution_count": 25,
   "metadata": {},
   "outputs": [],
   "source": [
    "w.nextnode = x\n",
    "x.nextnode = y\n",
    "y.nextnode = z"
   ]
  },
  {
   "cell_type": "code",
   "execution_count": 10,
   "metadata": {},
   "outputs": [
    {
     "data": {
      "text/plain": [
       "2"
      ]
     },
     "execution_count": 10,
     "metadata": {},
     "output_type": "execute_result"
    }
   ],
   "source": [
    "w.nextnode.value"
   ]
  },
  {
   "cell_type": "code",
   "execution_count": 11,
   "metadata": {},
   "outputs": [
    {
     "ename": "AttributeError",
     "evalue": "'NoneType' object has no attribute 'value'",
     "output_type": "error",
     "traceback": [
      "\u001b[1;31m---------------------------------------------------------------------------\u001b[0m",
      "\u001b[1;31mAttributeError\u001b[0m                            Traceback (most recent call last)",
      "\u001b[1;32m<ipython-input-11-3a48e977d32a>\u001b[0m in \u001b[0;36m<module>\u001b[1;34m\u001b[0m\n\u001b[1;32m----> 1\u001b[1;33m \u001b[0mz\u001b[0m\u001b[1;33m.\u001b[0m\u001b[0mnextnode\u001b[0m\u001b[1;33m.\u001b[0m\u001b[0mvalue\u001b[0m\u001b[1;33m\u001b[0m\u001b[1;33m\u001b[0m\u001b[0m\n\u001b[0m",
      "\u001b[1;31mAttributeError\u001b[0m: 'NoneType' object has no attribute 'value'"
     ]
    }
   ],
   "source": [
    "z.nextnode.value"
   ]
  },
  {
   "cell_type": "code",
   "execution_count": 12,
   "metadata": {},
   "outputs": [],
   "source": [
    "reverse(w)"
   ]
  },
  {
   "cell_type": "code",
   "execution_count": 13,
   "metadata": {},
   "outputs": [
    {
     "data": {
      "text/plain": [
       "3"
      ]
     },
     "execution_count": 13,
     "metadata": {},
     "output_type": "execute_result"
    }
   ],
   "source": [
    "z.nextnode.value"
   ]
  },
  {
   "cell_type": "code",
   "execution_count": 14,
   "metadata": {},
   "outputs": [
    {
     "data": {
      "text/plain": [
       "2"
      ]
     },
     "execution_count": 14,
     "metadata": {},
     "output_type": "execute_result"
    }
   ],
   "source": [
    "y.nextnode.value"
   ]
  },
  {
   "cell_type": "code",
   "execution_count": 15,
   "metadata": {},
   "outputs": [
    {
     "data": {
      "text/plain": [
       "1"
      ]
     },
     "execution_count": 15,
     "metadata": {},
     "output_type": "execute_result"
    }
   ],
   "source": [
    "x.nextnode.value"
   ]
  },
  {
   "cell_type": "markdown",
   "metadata": {},
   "source": [
    "### Nth from the last"
   ]
  },
  {
   "cell_type": "code",
   "execution_count": 27,
   "metadata": {},
   "outputs": [],
   "source": [
    "def nth(pos , node):\n",
    "    length = 0\n",
    "    temp = node\n",
    "    while node != None:\n",
    "        length += 1\n",
    "        node = node.nextnode\n",
    "    \n",
    "    i = 0\n",
    "    while i != (length-pos):\n",
    "        temp = temp.nextnode\n",
    "        i += 1\n",
    "    return(temp.value)"
   ]
  },
  {
   "cell_type": "code",
   "execution_count": 30,
   "metadata": {},
   "outputs": [
    {
     "data": {
      "text/plain": [
       "2"
      ]
     },
     "execution_count": 30,
     "metadata": {},
     "output_type": "execute_result"
    }
   ],
   "source": [
    "nth(3,w)"
   ]
  },
  {
   "cell_type": "markdown",
   "metadata": {},
   "source": [
    "## Single Linked list complete implementation"
   ]
  },
  {
   "cell_type": "code",
   "execution_count": 19,
   "metadata": {},
   "outputs": [],
   "source": [
    "class Node:\n",
    "    def __init__(self, value):\n",
    "        self.value = value\n",
    "        self.next = None\n",
    "\n",
    "\n",
    "class LinkedList():\n",
    "\n",
    "    def __init__(self):\n",
    "        self.head = None\n",
    "        self.tail = None\n",
    "\n",
    "    def append(self, data):\n",
    "        new_node = Node(data)\n",
    "        if self.head == None:\n",
    "            self.head = new_node\n",
    "            self.tail = new_node\n",
    "            self.length = 1\n",
    "        else:\n",
    "            self.tail.next = new_node\n",
    "            self.tail = new_node\n",
    "            self.length += 1\n",
    "\n",
    "    def prepend(self, value):\n",
    "        new_node = Node(value)\n",
    "        new_node.next = self.head\n",
    "        self.head = new_node\n",
    "        self.length += 1\n",
    "\n",
    "    def insert(self, index, value):\n",
    "        new_node = Node(value)\n",
    "        current_node = self.head\n",
    "        i = 0\n",
    "        if index == 0:\n",
    "            self.prepend(value)\n",
    "        \n",
    "        if index >= (self.length):\n",
    "            self.append(value)\n",
    "        \n",
    "        while current_node != None:\n",
    "            if i == index-1:\n",
    "                new_node.next = current_node.next\n",
    "                current_node.next = new_node\n",
    "                self.length += 1\n",
    "\n",
    "            i += 1\n",
    "            current_node = current_node.next\n",
    "\n",
    "\n",
    "    def delete(self, index):\n",
    "        current_node = self.head\n",
    "        i = 0\n",
    "        while i < self.length:\n",
    "            if index == 0:\n",
    "                self.head = current_node.next\n",
    "                self.length -= 1\n",
    "                break\n",
    "            if i == self.length-1:\n",
    "                current_node.next = None\n",
    "                self.tail = current_node\n",
    "                self.length -= 1\n",
    "                break\n",
    "            if i == index-1:\n",
    "                current_node.next = current_node.next.next\n",
    "                self.length -= 1\n",
    "                break\n",
    "\n",
    "            i += 1\n",
    "            current_node = current_node.next\n",
    "\n",
    "    def reverse(self):\n",
    "        self.tail = self.head\n",
    "        prev = None\n",
    "        while self.head != None:\n",
    "            temp = self.head\n",
    "            self.head = self.head.next\n",
    "            temp.next = prev\n",
    "            prev = temp\n",
    "        self.head = temp\n",
    "\n",
    "    def printl(self):\n",
    "        temp = self.head\n",
    "        while temp != None:\n",
    "            print(temp.value, end=' ')\n",
    "            temp = temp.next\n",
    "        print()\n",
    "\n",
    "#   def reverse(self):\n",
    "#         rev_tail = None\n",
    "#         temp_node = self.head\n",
    "#         while temp_node != None:\n",
    "#             node = Node(temp_node.value)\n",
    "#             if rev_tail == None:\n",
    "#                 rev_head = node\n",
    "#                 rev_tail = node\n",
    "#             else:\n",
    "#                 node.next = rev_tail\n",
    "#                 rev_tail = node\n",
    "#             temp_node = temp_node.next\n",
    "\n",
    "#         new = rev_tail\n",
    "#         while new != None:\n",
    "#             print(new.value , end= \" \")\n",
    "#             new = new.next\n",
    "#         print()\n"
   ]
  },
  {
   "cell_type": "code",
   "execution_count": 20,
   "metadata": {},
   "outputs": [
    {
     "name": "stdout",
     "output_type": "stream",
     "text": [
      "3\n",
      "5 20 50 \n"
     ]
    }
   ],
   "source": [
    "mylist = LinkedList()\n",
    "mylist.append(5)\n",
    "mylist.append(20)\n",
    "mylist.append(50)\n",
    "print(mylist.length)\n",
    "mylist.printl()"
   ]
  },
  {
   "cell_type": "code",
   "execution_count": 21,
   "metadata": {},
   "outputs": [
    {
     "name": "stdout",
     "output_type": "stream",
     "text": [
      "4\n",
      "1 5 20 50 \n"
     ]
    }
   ],
   "source": [
    "mylist.prepend(1)\n",
    "print(mylist.length)\n",
    "mylist.printl()"
   ]
  },
  {
   "cell_type": "code",
   "execution_count": 22,
   "metadata": {},
   "outputs": [
    {
     "name": "stdout",
     "output_type": "stream",
     "text": [
      "6\n",
      "8 1 5 40 20 50 \n"
     ]
    }
   ],
   "source": [
    "mylist.insert(2, 40)\n",
    "mylist.insert(0, 8)\n",
    "print(mylist.length)\n",
    "mylist.printl()"
   ]
  },
  {
   "cell_type": "code",
   "execution_count": 23,
   "metadata": {},
   "outputs": [
    {
     "name": "stdout",
     "output_type": "stream",
     "text": [
      "6\n"
     ]
    }
   ],
   "source": [
    "print(mylist.length)"
   ]
  },
  {
   "cell_type": "code",
   "execution_count": 24,
   "metadata": {},
   "outputs": [
    {
     "name": "stdout",
     "output_type": "stream",
     "text": [
      "8 1 5 40 20 \n"
     ]
    }
   ],
   "source": [
    "mylist.delete(5)\n",
    "mylist.printl()"
   ]
  },
  {
   "cell_type": "code",
   "execution_count": 25,
   "metadata": {},
   "outputs": [
    {
     "name": "stdout",
     "output_type": "stream",
     "text": [
      "20 40 5 1 8 \n"
     ]
    }
   ],
   "source": [
    "mylist.reverse()\n",
    "mylist.printl()"
   ]
  },
  {
   "cell_type": "markdown",
   "metadata": {},
   "source": [
    "## Double linked list implementation"
   ]
  },
  {
   "cell_type": "code",
   "execution_count": 26,
   "metadata": {},
   "outputs": [],
   "source": [
    "class Node:\n",
    "    def __init__(self,data):\n",
    "        self.data = data\n",
    "        self.next = None\n",
    "        self.prev = None\n",
    "\n",
    "class DoublyLinkedList:\n",
    "    def __init__(self):\n",
    "        self.head = None\n",
    "        self.tail = None\n",
    "\n",
    "    def append(self,data):\n",
    "        new_node = Node(data)\n",
    "        if self.head == None:\n",
    "            self.head = new_node\n",
    "            self.tail = self.head\n",
    "            self.length = 1\n",
    "        else:\n",
    "            self.tail.next = new_node\n",
    "            new_node.prev = self.tail\n",
    "            self.tail = new_node\n",
    "            self.length += 1\n",
    "\n",
    "    def prepend(self,data):\n",
    "        new_node = Node(data)\n",
    "        new_node.next = self.head\n",
    "        self.head.prev = new_node\n",
    "        self.head = new_node\n",
    "        self.length += 1\n",
    "\n",
    "    def insert(self,index,data):\n",
    "        new_node = Node(data)\n",
    "        if index==0:\n",
    "            self.prepend(data)\n",
    "            return\n",
    "        if index >= self.length:\n",
    "            self.append(data)\n",
    "            return\n",
    "        else:         \n",
    "            leader = self.traversetoindex(index - 1)\n",
    "            holder = leader.next\n",
    "            leader.next = new_node\n",
    "            new_node.next = holder\n",
    "            new_node.prev = leader\n",
    "            holder.prev = new_node\n",
    "            self.length+=1\n",
    "\n",
    "    def remove(self,index):\n",
    "        if index==0:\n",
    "            self.head=self.head.next\n",
    "            self.length-=1\n",
    "            return\n",
    "        if index == self.length-1:\n",
    "            self.tail = self.tail.prev\n",
    "            self.tail.next = None\n",
    "            self.length -= 1\n",
    "            return\n",
    "        leader = self.traversetoindex(index-1)\n",
    "        unwanted_node = leader.next\n",
    "        holder = unwanted_node.next\n",
    "        leader.next = holder\n",
    "        holder.prev = leader\n",
    "        self.length -= 1\n",
    "\n",
    "\n",
    "    def traversetoindex(self,index):\n",
    "        curr_node = self.head\n",
    "        i = 0\n",
    "        while i!= index:\n",
    "            curr_node = curr_node.next\n",
    "            i+=1\n",
    "        return curr_node\n",
    "\n",
    "    def printt(self):\n",
    "        temp = self.head\n",
    "        while temp != None:\n",
    "            print(temp.data , end = ' ')\n",
    "            temp = temp.next\n",
    "        print()\n",
    "        print('Length ' + str(self.length))        \n",
    "            \n",
    "        "
   ]
  },
  {
   "cell_type": "code",
   "execution_count": 27,
   "metadata": {},
   "outputs": [
    {
     "name": "stdout",
     "output_type": "stream",
     "text": [
      "1 10 22 5 6 \n",
      "Length 5\n"
     ]
    }
   ],
   "source": [
    "d = DoublyLinkedList()\n",
    "d.append(10)\n",
    "d.append(5)\n",
    "d.append(6)\n",
    "d.prepend(1)\n",
    "d.insert(2,22)\n",
    "d.printt()"
   ]
  },
  {
   "cell_type": "code",
   "execution_count": 28,
   "metadata": {},
   "outputs": [
    {
     "name": "stdout",
     "output_type": "stream",
     "text": [
      "1 10 22 6 \n",
      "Length 4\n"
     ]
    }
   ],
   "source": [
    "d.remove(3)\n",
    "d.printt()"
   ]
  },
  {
   "cell_type": "code",
   "execution_count": null,
   "metadata": {},
   "outputs": [],
   "source": []
  }
 ],
 "metadata": {
  "kernelspec": {
   "display_name": "Python 3",
   "language": "python",
   "name": "python3"
  },
  "language_info": {
   "codemirror_mode": {
    "name": "ipython",
    "version": 3
   },
   "file_extension": ".py",
   "mimetype": "text/x-python",
   "name": "python",
   "nbconvert_exporter": "python",
   "pygments_lexer": "ipython3",
   "version": "3.7.6"
  }
 },
 "nbformat": 4,
 "nbformat_minor": 4
}
